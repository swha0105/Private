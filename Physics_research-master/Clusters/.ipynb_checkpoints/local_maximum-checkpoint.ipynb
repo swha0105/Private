{
 "cells": [
  {
   "cell_type": "code",
   "execution_count": 1,
   "metadata": {},
   "outputs": [],
   "source": [
    "import os\n",
    "import sys\n",
    "import numpy as np\n",
    "import matplotlib.pyplot as plt\n",
    "#from utils import *"
   ]
  },
  {
   "cell_type": "code",
   "execution_count": 2,
   "metadata": {},
   "outputs": [],
   "source": [
    "volume_constant = (10**-2)*( (200/2048) * (3.086/0.7))**3\n",
    "nx = 256 \n",
    "\n",
    "xray_path = '/storage/filament/data/box01/256den18g+1024+1'\n",
    "xray = np.genfromtxt(xray_path,dtype='float64')*volume_constant\n",
    "xray_re = xray.reshape([nx,nx,nx])"
   ]
  },
  {
   "cell_type": "code",
   "execution_count": 4,
   "metadata": {},
   "outputs": [],
   "source": [
    "dens_path = '/storage/filament/data/box01/256den18a+1024+1'\n",
    "dens = np.genfromtxt(xray_path,dtype='float64')\n",
    "dens_re = dens.reshape([nx,nx,nx])"
   ]
  },
  {
   "cell_type": "code",
   "execution_count": 13,
   "metadata": {},
   "outputs": [],
   "source": [
    "candidate_coordx = []\n",
    "candidate_coordy = []\n",
    "candidate_coordz = []\n",
    "\n",
    "for iz in range(nx):\n",
    "    for iy in range(nx):\n",
    "        for iz in range(nx):\n",
    "            if xray_re[ix,iy,iz] >= 10**38.5:\n",
    "                \n",
    "                virial_radius = 0\n",
    "                # virial raius 계산\n",
    "                for vr in range(10):\n",
    "                    if(ix-vr>=0 and ix+vr >= 255 and iy-vr>=0 and iy+vr<=255 and iz-vr>=0 and iz+vz<=255 ):\n",
    "                        critical_density = np.mean(dens[ix-vr:ix+vr , iy-vr:iy+vr , iz-vr:iz+vr])\n",
    "                        if (critical_density < 200):\n",
    "                            virial_radius = vr\n",
    "                            #print(virial_radius)\n",
    "                            break;\n",
    "                        else:\n",
    "                            pass\n",
    "                    else:\n",
    "                        pass\n",
    "                \n",
    "                # 주변 local maximun tag\n",
    "                if not virial_radius ==0:\n",
    "                    ref_value = xray_re[ix,iy,iz]\n",
    "                    tmp_x = ix\n",
    "                    tmp_y = iy\n",
    "                    tmp_z = iz\n",
    "                    max_value = ref_value\n",
    "                    for rx in range(-virial_radius,virial_radius+1):\n",
    "                        for ry in range(-virial_radius,virial_radius+1):\n",
    "                            for rz in range(-virial_radius,virial_radius+1):\n",
    "                                if ref_value < xray_re[ix+rx, iy+ry, iz+rz]:\n",
    "                                    tmp_x = ix+rx\n",
    "                                    tmp_y = iy+ry\n",
    "                                    tmp_z = iz+rz\n",
    "                                    \n",
    "                                    ref_value = xray_re[tmp_x , tmp_y , tmp_z]\n",
    "                                    max_value = xray_re[tmp_x , tmp_y , tmp_z]\n",
    "                                    \n",
    "                                else:\n",
    "                                    pass\n",
    "                                \n",
    "                    candidate_coordx.append[tmp_x]\n",
    "                    candidate_coordy.append[tmp_y]\n",
    "                    candidate_coordz.append[tmp_z]"
   ]
  },
  {
   "cell_type": "code",
   "execution_count": 12,
   "metadata": {},
   "outputs": [
    {
     "data": {
      "text/plain": [
       "[]"
      ]
     },
     "execution_count": 12,
     "metadata": {},
     "output_type": "execute_result"
    }
   ],
   "source": [
    "candidate_coordx"
   ]
  }
 ],
 "metadata": {
  "kernelspec": {
   "display_name": "Python 3",
   "language": "python",
   "name": "python3"
  },
  "language_info": {
   "codemirror_mode": {
    "name": "ipython",
    "version": 3
   },
   "file_extension": ".py",
   "mimetype": "text/x-python",
   "name": "python",
   "nbconvert_exporter": "python",
   "pygments_lexer": "ipython3",
   "version": "3.6.0"
  }
 },
 "nbformat": 4,
 "nbformat_minor": 4
}
