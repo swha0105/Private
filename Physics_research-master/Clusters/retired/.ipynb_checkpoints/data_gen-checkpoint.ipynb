{
 "cells": [
  {
   "cell_type": "code",
   "execution_count": 1,
   "metadata": {},
   "outputs": [],
   "source": [
    "import os\n",
    "import sys\n",
    "import numpy as np\n",
    "import matplotlib.pyplot as plt\n",
    "#from utils import *"
   ]
  },
  {
   "cell_type": "code",
   "execution_count": 3,
   "metadata": {},
   "outputs": [],
   "source": [
    "data_dir = '/storage/cluster/data/'\n",
    "\n",
    "coords = np.genfromtxt(data_dir+'coords.txt')"
   ]
  },
  {
   "cell_type": "code",
   "execution_count": 7,
   "metadata": {},
   "outputs": [],
   "source": [
    "coords_dir = '/storage/cluster/data/'\n",
    "dens_dir = '/storage/filament/data/box01/256den18a+1024+1'\n",
    "\n",
    "coords = np.genfromtxt(coords_dir + 'coords.txt')\n",
    "dens = np.genfromtxt(dens_dir)\n",
    "dens = dens.reshape([256,256,256])"
   ]
  },
  {
   "cell_type": "code",
   "execution_count": null,
   "metadata": {},
   "outputs": [],
   "source": [
    "#m = 3*(np.log10(r*0.39*0.7*3.0856*10**24)) + np.log10(dens_mean*(1.879*10**-29)*(1.428**2)*(0.28)) + np.log10(4*np.pi/3)\n",
    "#dens_mean\n",
    "\n",
    "virial_mass = []\n",
    "\n",
    "coords_x = []\n",
    "coords_y = []\n",
    "coords_z = []\n",
    "\n",
    "for nn,(ix,iy,iz,r) in enumerate(coords):\n",
    "    ix = int(ix)\n",
    "    iy = int(iy)\n",
    "    iz = int(iz)\n",
    "    r = int(r)\n",
    "    if ix-r >= 0 and ix+r+1 <= 255 and iy-r >= 0 and iy+r+1 <= 255 and iz-r >= 0 and iz+r+1 <=255:\n",
    "        coords_x.append(ix)\n",
    "        coords_y.append(iy)\n",
    "        coords_z.append(iz)\n",
    "        \n",
    "        dens_mean = np.mean(dens[ix-r:ix+r+1, iy-r:iy+r+1, iz-r:iz+r+1])\n",
    "    m = 3*(np.log10(r*0.39*0.7*3.0856*10**24)) + np.log10(dens_mean*(1.879*10**-29)*(1.428**2)*(0.28)) + np.log10(4*np.pi/3)\n",
    "    virial_mass.append(m)"
   ]
  },
  {
   "cell_type": "code",
   "execution_count": 14,
   "metadata": {},
   "outputs": [
    {
     "data": {
      "text/plain": [
       "array([[117., 161.,   0.,   3.],\n",
       "       [204., 195.,   0.,   3.],\n",
       "       [201., 219.,   0.,   3.],\n",
       "       ...,\n",
       "       [196., 242., 255.,   2.],\n",
       "       [161., 123., 255.,   2.],\n",
       "       [173.,  95., 255.,   2.]])"
      ]
     },
     "execution_count": 14,
     "metadata": {},
     "output_type": "execute_result"
    }
   ],
   "source": [
    "coords"
   ]
  },
  {
   "cell_type": "code",
   "execution_count": null,
   "metadata": {},
   "outputs": [],
   "source": [
    "xray_dir = '/storage/filament/data/box01/256den18g+1024+1'\n",
    "temp_dir = '/storage/filament/data/box01/256den18f+1024+1'"
   ]
  },
  {
   "cell_type": "code",
   "execution_count": null,
   "metadata": {},
   "outputs": [],
   "source": [
    "xray = np.genfromtxt(xray_dir)\n",
    "xray = xray.reshape([256,256,256])\n",
    "\n",
    "temp = np.genfromtxt(temp_dir)\n",
    "temp = temp.reshape([256,256,256])"
   ]
  },
  {
   "cell_type": "code",
   "execution_count": null,
   "metadata": {},
   "outputs": [],
   "source": []
  }
 ],
 "metadata": {
  "kernelspec": {
   "display_name": "Python 3",
   "language": "python",
   "name": "python3"
  },
  "language_info": {
   "codemirror_mode": {
    "name": "ipython",
    "version": 3
   },
   "file_extension": ".py",
   "mimetype": "text/x-python",
   "name": "python",
   "nbconvert_exporter": "python",
   "pygments_lexer": "ipython3",
   "version": "3.6.0"
  }
 },
 "nbformat": 4,
 "nbformat_minor": 4
}
