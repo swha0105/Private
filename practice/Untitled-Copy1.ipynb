{
 "cells": [
  {
   "cell_type": "code",
   "execution_count": 1,
   "metadata": {
    "code_folding": []
   },
   "outputs": [
    {
     "name": "stderr",
     "output_type": "stream",
     "text": [
      "Using TensorFlow backend.\n"
     ]
    }
   ],
   "source": [
    "#import pixiedust\n",
    "import os\n",
    "import cv2\n",
    "import numpy as np\n",
    "import matplotlib.pylab as plt\n",
    "#import nibabel as nib\n",
    "#import PIL\n",
    "#import pandas as pd1\n",
    "import random\n",
    "import pydicom\n",
    "from scipy.ndimage.interpolation import rotate\n",
    "from skimage.io import imsave, imread\n",
    "from skimage.transform import resize\n",
    "from skimage.io import imsave\n",
    "import numpy as np\n",
    "\n",
    "import copy\n",
    "from keras.models import Model, load_model\n",
    "from keras.layers import Input, concatenate, Conv2D, MaxPooling2D, Conv2DTranspose\n",
    "from keras.layers import Input, concatenate, Conv3D, MaxPooling3D, Conv3DTranspose, BatchNormalization, Activation, Dropout\n",
    "from keras.preprocessing.image import ImageDataGenerator\n",
    "from keras.optimizers import Adam\n",
    "from keras.callbacks import ModelCheckpoint, LearningRateScheduler, Callback\n",
    "from keras import backend as K\n",
    "from keras import losses\n",
    "import tensorflow as tf\n",
    "from keras.models import load_model\n",
    "import argparse"
   ]
  },
  {
   "cell_type": "code",
   "execution_count": 2,
   "metadata": {
    "code_folding": [
     1
    ]
   },
   "outputs": [],
   "source": [
    "## model 3D Unet\n",
    "def get_unet():\n",
    "    \n",
    "    n = 8\n",
    "    \n",
    "    inputs = Input((None, None,  None, 1))\n",
    "    conv1 = Conv3D(n, (3, 3, 3), padding='same')(inputs)\n",
    "    conv1 = BatchNormalization(axis=4)(conv1)\n",
    "    conv1 = Activation('relu')(conv1)\n",
    "    conv1 = Conv3D(n, (3, 3, 3), padding='same')(conv1)\n",
    "    conv1 = BatchNormalization(axis=4)(conv1)\n",
    "    conv1 = Activation('relu')(conv1)\n",
    "    conv1 = Conv3D(n, (3, 3, 3), padding='same')(conv1)\n",
    "    conv1 = BatchNormalization(axis=4)(conv1)\n",
    "    conv1 = Activation('relu')(conv1)\n",
    "    pool1 = Conv3D(n, (3, 3, 3), padding='same', strides = (2 ,2, 2))(conv1)\n",
    "    pool1 = BatchNormalization(axis=4)(pool1)\n",
    "    pool1 = Activation('relu')(pool1)\n",
    "#    pool1 = Dropout(0.25)(pool1)\n",
    "#    pool1 = MaxPooling3D(pool_size=(2, 2, 1))(conv1)\n",
    "\n",
    "    conv22 = concatenate([pool1, MaxPooling3D(pool_size=(2, 2, 2))(inputs)], axis=4)\n",
    "    conv2 = Conv3D(2*n, (3, 3, 3), padding='same')(conv22)\n",
    "    conv2 = BatchNormalization(axis=4)(conv2)\n",
    "    conv2 = Activation('relu')(conv2)\n",
    "    conv2 = Conv3D(2*n, (3, 3, 3), padding='same')(conv2)\n",
    "    conv2 = BatchNormalization(axis=4)(conv2)\n",
    "    conv2 = Activation('relu')(conv2)\n",
    "    conv2 = Conv3D(2*n, (3, 3, 3), padding='same')(conv2)\n",
    "    conv2 = BatchNormalization(axis=4)(conv2)\n",
    "    conv2 = Activation('relu')(conv2)                           \n",
    "    pool2 = Conv3D(2*n, (3, 3, 3), padding='same', strides = (2, 2, 2))(conv2)\n",
    "    pool2 = BatchNormalization(axis=4)(pool2)\n",
    "    pool2 = Activation('relu')(pool2)\n",
    "#    pool2 = Dropout(0.25)(pool2)\n",
    "#    pool2 = MaxPooling3D(pool_size=(2, 2, 1))(conv2)\n",
    "\n",
    "    conv33 = concatenate([pool2, MaxPooling3D(pool_size=(2, 2, 2))(conv22)], axis=4)\n",
    "    conv3 = Conv3D(4*n, (3, 3, 3), padding='same')(conv33)    \n",
    "    conv3 = BatchNormalization(axis=4)(conv3)\n",
    "    conv3 = Activation('relu')(conv3)\n",
    "    conv3 = Conv3D(4*n, (3, 3, 3), padding='same')(conv3)    \n",
    "    conv3 = BatchNormalization(axis=4)(conv3)\n",
    "    conv3 = Activation('relu')(conv3)\n",
    "    conv3 = Conv3D(4*n, (3, 3, 3), padding='same')(conv3)\n",
    "    conv3 = BatchNormalization(axis=4)(conv3)\n",
    "    conv3 = Activation('relu')(conv3)\n",
    "#    conv3 = Conv3D(4*n, (3, 3, 3), padding='same')(conv3)\n",
    "#    conv3 = BatchNormalization(axis=4)(conv3)\n",
    "#    conv3 = Activation('relu')(conv3)\n",
    "    pool3 = Conv3D(2*n, (3, 3, 3), padding='same', strides = (2, 2, 2))(conv3)\n",
    "    pool3 = BatchNormalization(axis=4)(pool3)\n",
    "    pool3 = Activation('relu')(pool3)\n",
    "    \n",
    "    \n",
    "    conv44 = concatenate([pool3, MaxPooling3D(pool_size=(2, 2, 2))(conv33)], axis=4)\n",
    "    conv4 = Conv3D(8*n, (3, 3, 3), padding='same')(conv44)    \n",
    "    conv4 = BatchNormalization(axis=4)(conv4)\n",
    "    conv4 = Activation('relu')(conv4)\n",
    "    conv4 = Conv3D(8*n, (3, 3, 3), padding='same')(conv4)    \n",
    "    conv4 = BatchNormalization(axis=4)(conv4)\n",
    "    conv4 = Activation('relu')(conv4)\n",
    "    conv4 = Conv3D(8*n, (3, 3, 3), padding='same')(concatenate([conv44, conv4], axis=4))\n",
    "    conv4 = BatchNormalization(axis=4)(conv4)\n",
    "    conv4 = Activation('relu')(conv4)\n",
    "    conv4 = Conv3D(8*n, (3, 3, 3), padding='same')(conv4)    \n",
    "    conv4 = BatchNormalization(axis=4)(conv4)\n",
    "    conv4 = Activation('relu')(conv4)\n",
    "#    conv3 = Dropout(0.5)(conv3)\n",
    "#    pool3 = MaxPooling3D(pool_size=(2, 2, 1))(conv3)\n",
    "\n",
    "#    conv4 = Conv3D(128, (3, 3, 3), activation='relu', padding='same')(pool3)\n",
    "#    conv4 = BatchNormalization(axis=1)(conv4)\n",
    "#    conv4 = Activation('relu')(conv4)\n",
    "#    conv4 = Conv3D(128, (3, 3, 3), activation='relu', padding='same')(conv4)\n",
    "#    conv4 = BatchNormalization(axis=1)(conv4)\n",
    "\n",
    "    up5 = concatenate([Conv3DTranspose(2*n, (3, 3, 3), strides=(2, 2, 2), padding='same')(conv4), conv3], axis=4)\n",
    "    conv5 = Conv3D(4*n, (3, 3, 3), padding='same')(up5)\n",
    "    conv5 = BatchNormalization(axis=4)(conv5)\n",
    "    conv5 = Activation('relu')(conv5)\n",
    "    conv5 = Conv3D(4*n, (3, 3, 3), padding='same')(conv5)\n",
    "    conv5 = BatchNormalization(axis=4)(conv5)\n",
    "    conv5 = Activation('relu')(conv5)\n",
    "    conv5 = Conv3D(4*n, (3, 3, 3), padding='same')(concatenate([up5, conv5], axis=4))\n",
    "    conv5 = BatchNormalization(axis=4)(conv5)\n",
    "    conv5 = Activation('relu')(conv5)\n",
    "    \n",
    "    up6 = concatenate([Conv3DTranspose(n, (3, 3, 3), strides=(2, 2, 2), padding='same')(conv5), conv2], axis=4)\n",
    "    conv6 = Conv3D(2*n, (3, 3, 3), padding='same')(up6)\n",
    "    conv6 = BatchNormalization(axis=4)(conv6)\n",
    "    conv6 = Activation('relu')(conv6)\n",
    "    conv6 = Conv3D(2*n, (3, 3, 3), padding='same')(conv6)\n",
    "    conv6 = BatchNormalization(axis=4)(conv6)\n",
    "    conv6 = Activation('relu')(conv6)\n",
    "    conv6 = Conv3D(2*n, (3, 3, 3), padding='same')(concatenate([up6, conv6], axis=4))\n",
    "    conv6 = BatchNormalization(axis=4)(conv6)\n",
    "    conv6 = Activation('relu')(conv6)\n",
    "\n",
    "    up7 = concatenate([Conv3DTranspose(n, (3, 3, 3), strides=(2, 2, 2), padding='same')(conv6), conv1], axis=4)\n",
    "    conv7 = Conv3D(n, (3, 3, 3), padding='same')(up7)\n",
    "    conv7 = BatchNormalization(axis=4)(conv7)\n",
    "    conv7 = Activation('relu')(conv7)\n",
    "    conv7 = Conv3D(n, (3, 3, 3), padding='same')(conv7)\n",
    "    conv7 = BatchNormalization(axis=4)(conv7)\n",
    "    conv7 = Activation('relu')(conv7)\n",
    "    conv7 = Conv3D(n, (3, 3, 3), padding='same')(concatenate([up7, conv7], axis=4))\n",
    "    conv7 = BatchNormalization(axis=4)(conv7)\n",
    "    conv7 = Activation('relu')(conv7)\n",
    " #   up6 = concatenate([Conv3DTranspose(16, (2, 2, 1), strides=(2, 2, 1), padding='same')(conv5), conv1], axis=4)\n",
    " #   conv6 = Conv3D(16, (3, 3, 3), activation='relu', padding='same')(up6)\n",
    " #   conv6 = BatchNormalization(axis=1)(conv6)\n",
    " #   conv6 = Activation('relu')(conv6)\n",
    " #   conv6 = Conv3D(16, (3, 3, 3), activation='relu', padding='same')(conv6)\n",
    " #   conv6 = BatchNormalization(axis=1)(conv6)\n",
    " #   conv6 = Activation('relu')(conv6)\n",
    "    \n",
    "    conv8 = Conv3D(1, (1, 1, 1), activation='sigmoid')(conv7)\n",
    "    \n",
    "    model = Model(inputs=[inputs], outputs=[conv8])\n",
    "    \n",
    "    learning_rate = 1e-3\n",
    "    decay_rate = learning_rate/300\n",
    "    \n",
    "    model.compile(optimizer=Adam(lr=learning_rate, decay=decay_rate), loss=dice_coef_loss, metrics=[dice_coef])\n",
    "#   model.compile(optimizer=Adam(lr=1e-5), loss=losses.mean_squared_error, metrics=[dice_coef])\n",
    "\n",
    "    return model"
   ]
  },
  {
   "cell_type": "code",
   "execution_count": null,
   "metadata": {
    "code_folding": [
     0
    ]
   },
   "outputs": [],
   "source": [
    "## loss function\n",
    "smooth = 1e-7\n",
    "\n",
    "def dice_coef(y_true, y_pred):\n",
    "    y_true_f = K.flatten(y_true)\n",
    "    y_pred_f = K.flatten(y_pred)\n",
    "    intersection = K.sum(y_true_f * y_pred_f)\n",
    "    return (2. * intersection + smooth * 0.01) / (K.sum(y_true_f) + K.sum(y_pred_f) + smooth)\n",
    "\n",
    "def dice_coef_loss(y_true, y_pred):\n",
    "    return -dice_coef(y_true, y_pred)"
   ]
  },
  {
   "cell_type": "code",
   "execution_count": null,
   "metadata": {
    "code_folding": []
   },
   "outputs": [],
   "source": [
    "# def preprocess(images, rows=img_rows, cols=img_cols, slices=img_slice):\n",
    "#     imgs_p = np.ndarray((images.shape[0], rows, cols, slices), dtype=np.float32)\n",
    "#     for i in range(images.shape[0]):\n",
    "#         imgs_p[i] = resize(images[i], (rows, cols, slices), preserve_range=True)\n",
    "\n",
    "#     imgs_p = imgs_p[..., np.newaxis]\n",
    "#     return imgs_p"
   ]
  },
  {
   "cell_type": "code",
   "execution_count": null,
   "metadata": {
    "code_folding": [
     0
    ]
   },
   "outputs": [],
   "source": [
    "def convertDicomToImg(img_array, center, width, slope, intercept):\n",
    "\tcvtd_array = np.zeros(img_array.shape, dtype=np.uint8)\n",
    "    \n",
    "\ttemp = img_array * slope + intercept\n",
    "\tlth = center - 0.5 - (width-1)/2\n",
    "\thth = center - 0.5 + (width-1)/2\n",
    "\tcvtd_array = 255*((temp-(center-0.5))/(width-1)+0.5)\n",
    "\tcvtd_array[temp<=lth] = 0\n",
    "\tcvtd_array[temp>hth] = 255\n",
    "\n",
    "\treturn(cvtd_array)"
   ]
  },
  {
   "cell_type": "code",
   "execution_count": 3,
   "metadata": {},
   "outputs": [],
   "source": [
    "CT_path = 'G:\\\\JBS-05K\\\\2차\\\\CT'\n",
    "ROI_path = 'G:\\\\JBS-05K\\\\2차\\\\ROI'"
   ]
  },
  {
   "cell_type": "code",
   "execution_count": 4,
   "metadata": {},
   "outputs": [],
   "source": [
    "pat_id_list = os.listdir(CT_path)\n",
    "pat_id_list.sort()\n",
    "PN = len(pat_id_list)\n",
    "ROI_train = os.listdir(ROI_path)\n",
    "ROI_train.sort()\n",
    "PN_train = len(ROI_train)"
   ]
  },
  {
   "cell_type": "code",
   "execution_count": 5,
   "metadata": {},
   "outputs": [
    {
     "name": "stdout",
     "output_type": "stream",
     "text": [
      "['0001_RoiSet', '0002_RoiSet', '0003_RoiSet', '0007_RoiSet', '0012_RoiSet', '0019_RoiSet', '0033_RoiSet', '0034_RoiSet', '0038_RoiSet', '0049_RoiSet', '0058_RoiSet', '0063_RoiSet', '0065_RoiSet', '0067_RoiSet', '0073_RoiSet', '0075_RoiSet', '0077_RoiSet', '0079_RoiSet', '0080_RoiSet', '0082_RoiSet', '0083_RoiSet', '0084_RoiSet', '0089_RoiSet', '0093_RoiSet', '0094_RoiSet', '0095_RoiSet', '0102_RoiSet', '0110_RoiSet', '0112_RoiSet', '0115_RoiSet', '0116_RoiSet', '0123_RoiSet', '0124_RoiSet', '0128_RoiSet', '0137_RoiSet', '0140_RoiSet', '0142_RoiSet', '0143_RoiSet', '0144_RoiSet', '0145_RoiSet', '0149_RoiSet', '0150_RoiSet', '0151_RoiSet', '0153_RoiSet', '0156_RoiSet', '0157_RoiSet', '0161_RoiSet', '0163_RoiSet', '0164_RoiSet', '0167_RoiSet', '0169_RoiSet', '0170_RoiSet', '0172_RoiSet', '0173_RoiSet', '0176_RoiSet', '0177_RoiSet', '0186_RoiSet', '0188_RoiSet', '0189_RoiSet', '0194_RoiSet', '0195_RoiSet', '0200_RoiSet', '0201_RoiSet', '0202_RoiSet', '0207_RoiSet', '0209_RoiSet', '0214_RoiSet', '0226_RoiSet', '0232_RoiSet', '0235_RoiSet', '0239_RoiSet', '0241_RoiSet', '0242_RoiSet', '0243_RoiSet', '0244_RoiSet', '0246_RoiSet', '0247_RoiSet', '0249_RoiSet', '0251_RoiSet', '0253_RoiSet', '0254_RoiSet', '0255_RoiSet', '0258_RoiSet', '0259_RoiSet', '0261_RoiSet', '0264_RoiSet', '0266_RoiSet', '0268_RoiSet', '0269_RoiSet', '0273_RoiSet', '0279_RoiSet', '0280_RoiSet', '0289_RoiSet', '0291_RoiSet', '0295_RoiSet', '0310_RoiSet', '0313_RoiSet', '0318_RoiSet', '0320_RoiSet', '0322_RoiSet', '0329_RoiSet', '0331_RoiSet', '0332_RoiSet', '0334_RoiSet', '0335_RoiSet', '0337_RoiSet', '0338_RoiSet', '0340_RoiSet', '0341_RoiSet', '0342_RoiSet', '0345_RoiSet', '0350_RoiSet', '0355_RoiSet', '0359_RoiSet', '0361_RoiSet', '0363_RoiSet', '0366_RoiSet', '0367_RoiSet', '0370_RoiSet', '0371_RoiSet', '0373_RoiSet', '0376_RoiSet', '0377_RoiSet', '0379_RoiSet', '0383_RoiSet', '0384_RoiSet', '0385_RoiSet', '0388_RoiSet', '0397_RoiSet', '0398_RoiSet', '0402_RoiSet', '0408_RoiSet', '0411_RoiSet', '0413_RoiSet', '0416_RoiSet', '0419_RoiSet', '0422_RoiSet', '0424_RoiSet', '0430_RoiSet', '0432_RoiSet', '0433_RoiSet', '0434_RoiSet', '0437_RoiSet', '0443_RoiSet', '0444_RoiSet', '0451_RoiSet', '0455_RoiSet', '0456_RoiSet', '0458_RoiSet', '0464_RoiSet', '0468_RoiSet', '0471_RoiSet', '0474_RoiSet', '0475_RoiSet', '0478_RoiSet', '0479_RoiSet', '0487_RoiSet', '0490_RoiSet', '0496_RoiSet', '0497_RoiSet', '0498_RoiSet', '0503_RoiSet', '0505_RoiSet', '0508_RoiSet', '0513_RoiSet', '0514_RoiSet', '0517_RoiSet', '0519_RoiSet', '0522_RoiSet', '0523_RoiSet', '0524_RoiSet', '0525_RoiSet', '0527_RoiSet', '0528_RoiSet', '0530_RoiSet', '0532_RoiSet', '0536_RoiSet', '0543_RoiSet', '0545_RoiSet', '0549_RoiSet', '0552_RoiSet', '0557_RoiSet', '0563_RoiSet', '0564_RoiSet', '0569_RoiSet', '0580_RoiSet', '0582_RoiSet', '0585_RoiSet', '0586_RoiSet', '0588_RoiSet', '0595_RoiSet', '0596_RoiSet', '0597_RoiSet', '0602_RoiSet', '0607_RoiSet', '0608_RoiSet', '0609_RoiSet', '0612_RoiSet', '0614_RoiSet', '0619_RoiSet', '0626_RoiSet', '0635_RoiSet', '0642_RoiSet', '0646_RoiSet', '0647_RoiSet', '0650_RoiSet', '0652_RoiSet', '0655_RoiSet', '0662_RoiSet', '0664_RoiSet', '0665_RoiSet', '0668_RoiSet', '0675_RoiSet', '0677_RoiSet', '0678_RoiSet', '0679_RoiSet', '0683_RoiSet', '0684_RoiSet', '0687_RoiSet', '0688_RoiSet', '0694_RoiSet', '0701_RoiSet', '0712_RoiSet', '0713_RoiSet', '0714_RoiSet', '0723_RoiSet', '0726_RoiSet', '0728_RoiSet', '0741_RoiSet', '0758_RoiSet', '0766_RoiSet', '0779_RoiSet', '0793_RoiSet', '0796_RoiSet', '0802_RoiSet', '0803_RoiSet', '0822_RoiSet', '0825_RoiSet', '0829_RoiSet', '0831_RoiSet', '0835_RoiSet', '0836_RoiSet', '0837_RoiSet', '0842_RoiSet']\n"
     ]
    }
   ],
   "source": [
    "pname = 'DUM_' + ROI_train[0][0:4]\n",
    "dcm_path = os.path.join(CT_path, pname)\n",
    "\n",
    "label_path = os.path.join(ROI_path)\n",
    "label_list = os.listdir(label_path)\n",
    "label_list.sort()\n",
    "\n",
    "dcm_list = os.listdir(dcm_path)\n",
    "dcm_list.sort()\n",
    "\n",
    "print(label_list)"
   ]
  },
  {
   "cell_type": "code",
   "execution_count": 6,
   "metadata": {},
   "outputs": [],
   "source": [
    "img_rows = 192\n",
    "img_cols = 192\n",
    "img_slice = 80\n",
    "\n",
    "CT_mask = np.zeros((PN_train, img_rows, img_cols, img_slice), dtype=np.float32)\n",
    "ROI_mask = np.zeros((PN_train, img_rows, img_cols, img_slice), dtype=np.float32)"
   ]
  },
  {
   "cell_type": "code",
   "execution_count": null,
   "metadata": {},
   "outputs": [],
   "source": [
    "label_path = os.path.join(ROI_path,ROI_train[0])"
   ]
  },
  {
   "cell_type": "code",
   "execution_count": 91,
   "metadata": {},
   "outputs": [
    {
     "name": "stdout",
     "output_type": "stream",
     "text": [
      "G:\\JBS-05K\\2차\\ROI\n"
     ]
    },
    {
     "ename": "FileNotFoundError",
     "evalue": "No such file: 'G:\\JBS-05K\\2차\\ROI\\slice-17.jpg'",
     "output_type": "error",
     "traceback": [
      "\u001b[1;31m---------------------------------------------------------------------------\u001b[0m",
      "\u001b[1;31mFileNotFoundError\u001b[0m                         Traceback (most recent call last)",
      "\u001b[1;32m<ipython-input-91-b25fb39744e2>\u001b[0m in \u001b[0;36m<module>\u001b[1;34m\u001b[0m\n\u001b[0;32m      1\u001b[0m \u001b[0mprint\u001b[0m\u001b[1;33m(\u001b[0m\u001b[0mlabel_path\u001b[0m\u001b[1;33m)\u001b[0m\u001b[1;33m\u001b[0m\u001b[1;33m\u001b[0m\u001b[0m\n\u001b[0;32m      2\u001b[0m \u001b[0msname\u001b[0m \u001b[1;33m=\u001b[0m \u001b[1;34m'slice-'\u001b[0m \u001b[1;33m+\u001b[0m \u001b[0mstr\u001b[0m\u001b[1;33m(\u001b[0m\u001b[1;36m17\u001b[0m\u001b[1;33m)\u001b[0m \u001b[1;33m+\u001b[0m \u001b[1;34m'.jpg'\u001b[0m\u001b[1;33m\u001b[0m\u001b[1;33m\u001b[0m\u001b[0m\n\u001b[1;32m----> 3\u001b[1;33m \u001b[0mlabel\u001b[0m \u001b[1;33m=\u001b[0m \u001b[0mimread\u001b[0m\u001b[1;33m(\u001b[0m\u001b[0mos\u001b[0m\u001b[1;33m.\u001b[0m\u001b[0mpath\u001b[0m\u001b[1;33m.\u001b[0m\u001b[0mjoin\u001b[0m\u001b[1;33m(\u001b[0m\u001b[0mlabel_path\u001b[0m\u001b[1;33m,\u001b[0m \u001b[0msname\u001b[0m\u001b[1;33m)\u001b[0m\u001b[1;33m)\u001b[0m\u001b[1;33m\u001b[0m\u001b[1;33m\u001b[0m\u001b[0m\n\u001b[0m\u001b[0;32m      4\u001b[0m \u001b[1;33m\u001b[0m\u001b[0m\n\u001b[0;32m      5\u001b[0m \u001b[0mlabel_test\u001b[0m \u001b[1;33m=\u001b[0m \u001b[0mlabel\u001b[0m\u001b[1;33m\u001b[0m\u001b[1;33m\u001b[0m\u001b[0m\n",
      "\u001b[1;32m~\\.conda\\envs\\05k\\lib\\site-packages\\skimage\\io\\_io.py\u001b[0m in \u001b[0;36mimread\u001b[1;34m(fname, as_gray, plugin, flatten, **plugin_args)\u001b[0m\n\u001b[0;32m     59\u001b[0m \u001b[1;33m\u001b[0m\u001b[0m\n\u001b[0;32m     60\u001b[0m     \u001b[1;32mwith\u001b[0m \u001b[0mfile_or_url_context\u001b[0m\u001b[1;33m(\u001b[0m\u001b[0mfname\u001b[0m\u001b[1;33m)\u001b[0m \u001b[1;32mas\u001b[0m \u001b[0mfname\u001b[0m\u001b[1;33m:\u001b[0m\u001b[1;33m\u001b[0m\u001b[1;33m\u001b[0m\u001b[0m\n\u001b[1;32m---> 61\u001b[1;33m         \u001b[0mimg\u001b[0m \u001b[1;33m=\u001b[0m \u001b[0mcall_plugin\u001b[0m\u001b[1;33m(\u001b[0m\u001b[1;34m'imread'\u001b[0m\u001b[1;33m,\u001b[0m \u001b[0mfname\u001b[0m\u001b[1;33m,\u001b[0m \u001b[0mplugin\u001b[0m\u001b[1;33m=\u001b[0m\u001b[0mplugin\u001b[0m\u001b[1;33m,\u001b[0m \u001b[1;33m**\u001b[0m\u001b[0mplugin_args\u001b[0m\u001b[1;33m)\u001b[0m\u001b[1;33m\u001b[0m\u001b[1;33m\u001b[0m\u001b[0m\n\u001b[0m\u001b[0;32m     62\u001b[0m \u001b[1;33m\u001b[0m\u001b[0m\n\u001b[0;32m     63\u001b[0m     \u001b[1;32mif\u001b[0m \u001b[1;32mnot\u001b[0m \u001b[0mhasattr\u001b[0m\u001b[1;33m(\u001b[0m\u001b[0mimg\u001b[0m\u001b[1;33m,\u001b[0m \u001b[1;34m'ndim'\u001b[0m\u001b[1;33m)\u001b[0m\u001b[1;33m:\u001b[0m\u001b[1;33m\u001b[0m\u001b[1;33m\u001b[0m\u001b[0m\n",
      "\u001b[1;32m~\\.conda\\envs\\05k\\lib\\site-packages\\skimage\\io\\manage_plugins.py\u001b[0m in \u001b[0;36mcall_plugin\u001b[1;34m(kind, *args, **kwargs)\u001b[0m\n\u001b[0;32m    208\u001b[0m                                (plugin, kind))\n\u001b[0;32m    209\u001b[0m \u001b[1;33m\u001b[0m\u001b[0m\n\u001b[1;32m--> 210\u001b[1;33m     \u001b[1;32mreturn\u001b[0m \u001b[0mfunc\u001b[0m\u001b[1;33m(\u001b[0m\u001b[1;33m*\u001b[0m\u001b[0margs\u001b[0m\u001b[1;33m,\u001b[0m \u001b[1;33m**\u001b[0m\u001b[0mkwargs\u001b[0m\u001b[1;33m)\u001b[0m\u001b[1;33m\u001b[0m\u001b[1;33m\u001b[0m\u001b[0m\n\u001b[0m\u001b[0;32m    211\u001b[0m \u001b[1;33m\u001b[0m\u001b[0m\n\u001b[0;32m    212\u001b[0m \u001b[1;33m\u001b[0m\u001b[0m\n",
      "\u001b[1;32m~\\.conda\\envs\\05k\\lib\\site-packages\\imageio\\core\\functions.py\u001b[0m in \u001b[0;36mimread\u001b[1;34m(uri, format, **kwargs)\u001b[0m\n\u001b[0;32m    219\u001b[0m \u001b[1;33m\u001b[0m\u001b[0m\n\u001b[0;32m    220\u001b[0m     \u001b[1;31m# Get reader and read first\u001b[0m\u001b[1;33m\u001b[0m\u001b[1;33m\u001b[0m\u001b[1;33m\u001b[0m\u001b[0m\n\u001b[1;32m--> 221\u001b[1;33m     \u001b[0mreader\u001b[0m \u001b[1;33m=\u001b[0m \u001b[0mread\u001b[0m\u001b[1;33m(\u001b[0m\u001b[0muri\u001b[0m\u001b[1;33m,\u001b[0m \u001b[0mformat\u001b[0m\u001b[1;33m,\u001b[0m \u001b[1;34m\"i\"\u001b[0m\u001b[1;33m,\u001b[0m \u001b[1;33m**\u001b[0m\u001b[0mkwargs\u001b[0m\u001b[1;33m)\u001b[0m\u001b[1;33m\u001b[0m\u001b[1;33m\u001b[0m\u001b[0m\n\u001b[0m\u001b[0;32m    222\u001b[0m     \u001b[1;32mwith\u001b[0m \u001b[0mreader\u001b[0m\u001b[1;33m:\u001b[0m\u001b[1;33m\u001b[0m\u001b[1;33m\u001b[0m\u001b[0m\n\u001b[0;32m    223\u001b[0m         \u001b[1;32mreturn\u001b[0m \u001b[0mreader\u001b[0m\u001b[1;33m.\u001b[0m\u001b[0mget_data\u001b[0m\u001b[1;33m(\u001b[0m\u001b[1;36m0\u001b[0m\u001b[1;33m)\u001b[0m\u001b[1;33m\u001b[0m\u001b[1;33m\u001b[0m\u001b[0m\n",
      "\u001b[1;32m~\\.conda\\envs\\05k\\lib\\site-packages\\imageio\\core\\functions.py\u001b[0m in \u001b[0;36mget_reader\u001b[1;34m(uri, format, mode, **kwargs)\u001b[0m\n\u001b[0;32m    128\u001b[0m \u001b[1;33m\u001b[0m\u001b[0m\n\u001b[0;32m    129\u001b[0m     \u001b[1;31m# Create request object\u001b[0m\u001b[1;33m\u001b[0m\u001b[1;33m\u001b[0m\u001b[1;33m\u001b[0m\u001b[0m\n\u001b[1;32m--> 130\u001b[1;33m     \u001b[0mrequest\u001b[0m \u001b[1;33m=\u001b[0m \u001b[0mRequest\u001b[0m\u001b[1;33m(\u001b[0m\u001b[0muri\u001b[0m\u001b[1;33m,\u001b[0m \u001b[1;34m\"r\"\u001b[0m \u001b[1;33m+\u001b[0m \u001b[0mmode\u001b[0m\u001b[1;33m,\u001b[0m \u001b[1;33m**\u001b[0m\u001b[0mkwargs\u001b[0m\u001b[1;33m)\u001b[0m\u001b[1;33m\u001b[0m\u001b[1;33m\u001b[0m\u001b[0m\n\u001b[0m\u001b[0;32m    131\u001b[0m \u001b[1;33m\u001b[0m\u001b[0m\n\u001b[0;32m    132\u001b[0m     \u001b[1;31m# Get format\u001b[0m\u001b[1;33m\u001b[0m\u001b[1;33m\u001b[0m\u001b[1;33m\u001b[0m\u001b[0m\n",
      "\u001b[1;32m~\\.conda\\envs\\05k\\lib\\site-packages\\imageio\\core\\request.py\u001b[0m in \u001b[0;36m__init__\u001b[1;34m(self, uri, mode, **kwargs)\u001b[0m\n\u001b[0;32m    124\u001b[0m \u001b[1;33m\u001b[0m\u001b[0m\n\u001b[0;32m    125\u001b[0m         \u001b[1;31m# Parse what was given\u001b[0m\u001b[1;33m\u001b[0m\u001b[1;33m\u001b[0m\u001b[1;33m\u001b[0m\u001b[0m\n\u001b[1;32m--> 126\u001b[1;33m         \u001b[0mself\u001b[0m\u001b[1;33m.\u001b[0m\u001b[0m_parse_uri\u001b[0m\u001b[1;33m(\u001b[0m\u001b[0muri\u001b[0m\u001b[1;33m)\u001b[0m\u001b[1;33m\u001b[0m\u001b[1;33m\u001b[0m\u001b[0m\n\u001b[0m\u001b[0;32m    127\u001b[0m \u001b[1;33m\u001b[0m\u001b[0m\n\u001b[0;32m    128\u001b[0m         \u001b[1;31m# Set extension\u001b[0m\u001b[1;33m\u001b[0m\u001b[1;33m\u001b[0m\u001b[1;33m\u001b[0m\u001b[0m\n",
      "\u001b[1;32m~\\.conda\\envs\\05k\\lib\\site-packages\\imageio\\core\\request.py\u001b[0m in \u001b[0;36m_parse_uri\u001b[1;34m(self, uri)\u001b[0m\n\u001b[0;32m    276\u001b[0m                 \u001b[1;31m# Reading: check that the file exists (but is allowed a dir)\u001b[0m\u001b[1;33m\u001b[0m\u001b[1;33m\u001b[0m\u001b[1;33m\u001b[0m\u001b[0m\n\u001b[0;32m    277\u001b[0m                 \u001b[1;32mif\u001b[0m \u001b[1;32mnot\u001b[0m \u001b[0mos\u001b[0m\u001b[1;33m.\u001b[0m\u001b[0mpath\u001b[0m\u001b[1;33m.\u001b[0m\u001b[0mexists\u001b[0m\u001b[1;33m(\u001b[0m\u001b[0mfn\u001b[0m\u001b[1;33m)\u001b[0m\u001b[1;33m:\u001b[0m\u001b[1;33m\u001b[0m\u001b[1;33m\u001b[0m\u001b[0m\n\u001b[1;32m--> 278\u001b[1;33m                     \u001b[1;32mraise\u001b[0m \u001b[0mFileNotFoundError\u001b[0m\u001b[1;33m(\u001b[0m\u001b[1;34m\"No such file: '%s'\"\u001b[0m \u001b[1;33m%\u001b[0m \u001b[0mfn\u001b[0m\u001b[1;33m)\u001b[0m\u001b[1;33m\u001b[0m\u001b[1;33m\u001b[0m\u001b[0m\n\u001b[0m\u001b[0;32m    279\u001b[0m             \u001b[1;32melse\u001b[0m\u001b[1;33m:\u001b[0m\u001b[1;33m\u001b[0m\u001b[1;33m\u001b[0m\u001b[0m\n\u001b[0;32m    280\u001b[0m                 \u001b[1;31m# Writing: check that the directory to write to does exist\u001b[0m\u001b[1;33m\u001b[0m\u001b[1;33m\u001b[0m\u001b[1;33m\u001b[0m\u001b[0m\n",
      "\u001b[1;31mFileNotFoundError\u001b[0m: No such file: 'G:\\JBS-05K\\2차\\ROI\\slice-17.jpg'"
     ]
    }
   ],
   "source": [
    "print(label_path)\n",
    "sname = 'slice-' + str(17) + '.jpg'\n",
    "label = imread(os.path.join(label_path, sname))\n",
    "\n",
    "label_test = label\n",
    "label_test = label_test.sum(axis=2)/(3*255)\n",
    "\n",
    "#print(np.histogram(label_test))\n",
    "\n",
    "label_mean = 0.5\n",
    "plt.figure(figsize=[20,10])\n",
    "plt.subplot(121).imshow(label_test)\n",
    "\n",
    "#label_test = np.array(label_test)\n",
    "label_test[label_test>label_mean] = 255\n",
    "label_test[label_test<label_mean] = 0\n",
    "plt.subplot(122).imshow(label_test)\n",
    "plt.show()\n",
    "#print(np.histogram(label_test))"
   ]
  },
  {
   "cell_type": "code",
   "execution_count": null,
   "metadata": {},
   "outputs": [],
   "source": [
    "for i in range(PN_train):\n",
    "\n",
    "    pname = 'DUM_' + ROI_train[i][0:4]\n",
    "    \n",
    "    dcm_path = os.path.join(CT_path, pname)\n",
    "    dcm_list = os.listdir(dcm_path)\n",
    "    dcm_list.sort()\n",
    "    \n",
    "    label_path = os.path.join(ROI_path,ROI_train[i])\n",
    "    label_list = os.listdir(label_path)\n",
    "    label_list.sort()\n",
    "\n",
    "    \n",
    "    DN = len(dcm_list)\n",
    "    gap = img_slice - DN\n",
    "    sgap = int(np.floor(gap / 2))\n",
    "\n",
    "    for j in range(DN):\n",
    "\n",
    "        image_path = os.path.join(dcm_path, dcm_list[j])\n",
    "\n",
    "        dcm_info = pydicom.dcmread(image_path,force=True)\n",
    "        if 'DERIVED' in dcm_info.ImageType:\n",
    "            continue\n",
    "        try:\n",
    "            pixel = dcm_info.pixel_array\n",
    "        except:\n",
    "            continue\n",
    "        try:\n",
    "            image = convertDicomToImg(pixel, center=dcm_info.WindowCenter, width=dcm_info.WindowWidth, slope=dcm_info.RescaleSlope, intercept=dcm_info.RescaleIntercept)\n",
    "        except:\n",
    "            image = convertDicomToImg(pixel, center=dcm_info.WindowCenter[0], width=dcm_info.WindowWidth[0], slope=dcm_info.RescaleSlope, intercept=dcm_info.RescaleIntercept)\n",
    "\n",
    "        sname = 'slice-' + str(j+1) + '.jpg'\n",
    "\n",
    "    \n",
    "        if sgap+j < 80:\n",
    "            try:\n",
    "                CT_mask[i,:,:,sgap+j]=cv2.resize(np.float32(image),(img_rows,img_cols))\n",
    "            except:\n",
    "                continue\n",
    "        \n",
    "        if sname in label_list:\n",
    "            \n",
    "            label = imread(os.path.join(label_path, sname))\n",
    "\n",
    "            label_test = label\n",
    "            label_test = label_test.sum(axis=2)/(3*255)\n",
    "\n",
    "            print(np.histogram(label_test))\n",
    "\n",
    "            #label_mean = np.mean(label_test)\n",
    "            label_mean = 0.5\n",
    "            #print(label_test.shape)\n",
    "            #print(label_mean)\n",
    "            plt.figure(figsize=[20,10])\n",
    "            plt.subplot(121).imshow(label_test)\n",
    "\n",
    "            label_test = np.array(label_test)\n",
    "            label_test[label_test>label_mean] = 255\n",
    "            label_test[label_test<label_mean] = 0\n",
    "\n",
    "            \n",
    "#             label = imread(os.path.join(label_path, sname))\n",
    "#             label = np.float32(label)\n",
    "#             label = label.sum(axis=0)           \n",
    "            \n",
    "            #label = label/255\n",
    "            \n",
    "            if sgap+j < 80:\n",
    "                    ROI_mask[i,:,:,sgap+j]=cv2.resize(label_test,(img_rows,img_cols))\n",
    "            else:\n",
    "                continue\n",
    "                    \n",
    "#ROI_mask[ROI_mask >= 0.5] = 1\n",
    "#ROI_mask[ROI_mask < 0.5] = 0         "
   ]
  },
  {
   "cell_type": "code",
   "execution_count": null,
   "metadata": {},
   "outputs": [],
   "source": [
    "import pickle\n",
    "with open('ROI_mask','wb') as f:\n",
    "    pickle.dump(ROI_mask,f)\n",
    "with open('CT_mask','wb') as f:\n",
    "    pickle.dump(CT_mask,f)"
   ]
  },
  {
   "cell_type": "code",
   "execution_count": 7,
   "metadata": {},
   "outputs": [],
   "source": [
    "import pickle\n",
    "with open('ROI_mask','rb') as f:\n",
    "    ROI_mask = pickle.load(f)\n",
    "with open('CT_mask','rb') as f:\n",
    "    CT_mask = pickle.load(f)"
   ]
  },
  {
   "cell_type": "code",
   "execution_count": null,
   "metadata": {},
   "outputs": [],
   "source": [
    "CT_pre = CT_mask.copy()\n",
    "CT_pre = CT_pre[0,:,:,40]\n",
    "\n",
    "CT_pre_ori = CT_pre.copy()\n",
    "\n",
    "CT_pre[CT_pre>250] = 0\n",
    "CT_pre[CT_pre==0] = 0 "
   ]
  },
  {
   "cell_type": "code",
   "execution_count": 8,
   "metadata": {},
   "outputs": [],
   "source": [
    "CT_pre = normalization(CT_pre)"
   ]
  },
  {
   "cell_type": "code",
   "execution_count": null,
   "metadata": {},
   "outputs": [],
   "source": [
    "for i in range(80):\n",
    "    print(i)\n",
    "    fig, (ax0, ax1) = plt.subplots(ncols=2, figsize=(10,10))\n",
    "    ax0.imshow(CT_mask[0,:,:,i],cmap=plt.cm.bone)\n",
    "    ax1.imshow(ROI_mask[0,:,:,i])"
   ]
  },
  {
   "cell_type": "code",
   "execution_count": null,
   "metadata": {},
   "outputs": [],
   "source": [
    "    pname = ['DUM_' + label[0:4] for label in ROI_train]\n",
    "save_path = '/home/user/notebooks/SW/save_folder/'\n",
    "if not os.path.isdir(save_path):\n",
    "    os.mkdir(save_path)\n",
    "CT_input = copy.deepcopy(CT_mask)\n",
    "ROI_out = copy.deepcopy(ROI_mask)"
   ]
  },
  {
   "cell_type": "code",
   "execution_count": null,
   "metadata": {},
   "outputs": [],
   "source": [
    "temp_CT = CT_input[0,0,:,:,20]"
   ]
  },
  {
   "cell_type": "code",
   "execution_count": null,
   "metadata": {},
   "outputs": [],
   "source": [
    "temp_CT_rotated = rotate(temp_CT,10)\n",
    "\n",
    "fig, (ax0, ax1) = plt.subplots(ncols=2, figsize=(10,10))\n",
    "ax0.imshow(temp_CT,cmap='gray')\n",
    "ax1.imshow(temp_CT_rotated,cmap='gray')\n",
    "#plt.imshow(CT_input[0,0,:,:,20])"
   ]
  },
  {
   "cell_type": "code",
   "execution_count": null,
   "metadata": {},
   "outputs": [],
   "source": [
    "def normalization(array):\n",
    "\n",
    "    d0,d1,d2,d3 = array.shape\n",
    "    array_flat = array.flatten()\n",
    "    array_flat = [np.nan if x == 0 else x for x in array_flat]\n",
    "    mean = np.nanmean(array_flat)\n",
    "    std = np.nanstd(array_flat)"
   ]
  },
  {
   "cell_type": "code",
   "execution_count": 115,
   "metadata": {},
   "outputs": [],
   "source": [
    "def normalization(array):\n",
    "\n",
    "    d0,d1,d2,d3 = array.shape\n",
    "    array_flat = array.flatten()\n",
    "    array_flat = [np.nan if x == 0 else x for x in array_flat]\n",
    "    mean = np.nanmean(array_flat)\n",
    "    std = np.nanstd(array_flat)\n",
    "    \n",
    "    array_flat = (array_flat-mean)/std\n",
    "    array = array_flat.reshape(d0,d1,d2,d3)\n",
    "    \n",
    "    return array"
   ]
  },
  {
   "cell_type": "code",
   "execution_count": null,
   "metadata": {},
   "outputs": [],
   "source": []
  }
 ],
 "metadata": {
  "kernelspec": {
   "display_name": "Python 3",
   "language": "python",
   "name": "python3"
  },
  "language_info": {
   "codemirror_mode": {
    "name": "ipython",
    "version": 3
   },
   "file_extension": ".py",
   "mimetype": "text/x-python",
   "name": "python",
   "nbconvert_exporter": "python",
   "pygments_lexer": "ipython3",
   "version": "3.7.3"
  },
  "varInspector": {
   "cols": {
    "lenName": 16,
    "lenType": 16,
    "lenVar": 40
   },
   "kernels_config": {
    "python": {
     "delete_cmd_postfix": "",
     "delete_cmd_prefix": "del ",
     "library": "var_list.py",
     "varRefreshCmd": "print(var_dic_list())"
    },
    "r": {
     "delete_cmd_postfix": ") ",
     "delete_cmd_prefix": "rm(",
     "library": "var_list.r",
     "varRefreshCmd": "cat(var_dic_list()) "
    }
   },
   "oldHeight": 432,
   "position": {
    "height": "454px",
    "left": "1282px",
    "right": "20px",
    "top": "-62px",
    "width": "647px"
   },
   "types_to_exclude": [
    "module",
    "function",
    "builtin_function_or_method",
    "instance",
    "_Feature"
   ],
   "varInspector_section_display": "block",
   "window_display": true
  }
 },
 "nbformat": 4,
 "nbformat_minor": 2
}
