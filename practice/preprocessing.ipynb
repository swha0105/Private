{
 "cells": [
  {
   "cell_type": "code",
   "execution_count": 1,
   "metadata": {
    "code_folding": []
   },
   "outputs": [
    {
     "name": "stderr",
     "output_type": "stream",
     "text": [
      "Using TensorFlow backend.\n"
     ]
    }
   ],
   "source": [
    "#import pixiedust\n",
    "import os\n",
    "import cv2\n",
    "import numpy as np\n",
    "import matplotlib.pylab as plt\n",
    "import random\n",
    "import pydicom\n",
    "\n",
    "from scipy.ndimage.interpolation import rotate\n",
    "from skimage.io import imsave, imread\n",
    "from skimage.transform import resize\n",
    "from skimage.io import imsave\n",
    "import numpy as np\n",
    "import copy\n",
    "from keras.models import Model, load_model\n",
    "from keras.layers import Input, concatenate, Conv2D, MaxPooling2D, Conv2DTranspose\n",
    "from keras.layers import Input, concatenate, Conv3D, MaxPooling3D, Conv3DTranspose, BatchNormalization, Activation, Dropout\n",
    "from keras.preprocessing.image import ImageDataGenerator\n",
    "from keras.optimizers import Adam\n",
    "from keras.callbacks import ModelCheckpoint, LearningRateScheduler, Callback\n",
    "from keras import backend as K\n",
    "from keras import losses\n",
    "import tensorflow as tf\n",
    "from keras.models import load_model\n",
    "import argparse"
   ]
  },
  {
   "cell_type": "code",
   "execution_count": 2,
   "metadata": {
    "code_folding": [
     1
    ]
   },
   "outputs": [],
   "source": [
    "## model 3D Unet\n",
    "def get_unet():\n",
    "    \n",
    "    n = 8\n",
    "    \n",
    "    inputs = Input((None, None,  None, 1))\n",
    "    conv1 = Conv3D(n, (3, 3, 3), padding='same')(inputs)\n",
    "    conv1 = BatchNormalization(axis=4)(conv1)\n",
    "    conv1 = Activation('relu')(conv1)\n",
    "    conv1 = Conv3D(n, (3, 3, 3), padding='same')(conv1)\n",
    "    conv1 = BatchNormalization(axis=4)(conv1)\n",
    "    conv1 = Activation('relu')(conv1)\n",
    "    conv1 = Conv3D(n, (3, 3, 3), padding='same')(conv1)\n",
    "    conv1 = BatchNormalization(axis=4)(conv1)\n",
    "    conv1 = Activation('relu')(conv1)\n",
    "    pool1 = Conv3D(n, (3, 3, 3), padding='same', strides = (2 ,2, 2))(conv1)\n",
    "    pool1 = BatchNormalization(axis=4)(pool1)\n",
    "    pool1 = Activation('relu')(pool1)\n",
    "#    pool1 = Dropout(0.25)(pool1)\n",
    "#    pool1 = MaxPooling3D(pool_size=(2, 2, 1))(conv1)\n",
    "\n",
    "    conv22 = concatenate([pool1, MaxPooling3D(pool_size=(2, 2, 2))(inputs)], axis=4)\n",
    "    conv2 = Conv3D(2*n, (3, 3, 3), padding='same')(conv22)\n",
    "    conv2 = BatchNormalization(axis=4)(conv2)\n",
    "    conv2 = Activation('relu')(conv2)\n",
    "    conv2 = Conv3D(2*n, (3, 3, 3), padding='same')(conv2)\n",
    "    conv2 = BatchNormalization(axis=4)(conv2)\n",
    "    conv2 = Activation('relu')(conv2)\n",
    "    conv2 = Conv3D(2*n, (3, 3, 3), padding='same')(conv2)\n",
    "    conv2 = BatchNormalization(axis=4)(conv2)\n",
    "    conv2 = Activation('relu')(conv2)                           \n",
    "    pool2 = Conv3D(2*n, (3, 3, 3), padding='same', strides = (2, 2, 2))(conv2)\n",
    "    pool2 = BatchNormalization(axis=4)(pool2)\n",
    "    pool2 = Activation('relu')(pool2)\n",
    "#    pool2 = Dropout(0.25)(pool2)\n",
    "#    pool2 = MaxPooling3D(pool_size=(2, 2, 1))(conv2)\n",
    "\n",
    "    conv33 = concatenate([pool2, MaxPooling3D(pool_size=(2, 2, 2))(conv22)], axis=4)\n",
    "    conv3 = Conv3D(4*n, (3, 3, 3), padding='same')(conv33)    \n",
    "    conv3 = BatchNormalization(axis=4)(conv3)\n",
    "    conv3 = Activation('relu')(conv3)\n",
    "    conv3 = Conv3D(4*n, (3, 3, 3), padding='same')(conv3)    \n",
    "    conv3 = BatchNormalization(axis=4)(conv3)\n",
    "    conv3 = Activation('relu')(conv3)\n",
    "    conv3 = Conv3D(4*n, (3, 3, 3), padding='same')(conv3)\n",
    "    conv3 = BatchNormalization(axis=4)(conv3)\n",
    "    conv3 = Activation('relu')(conv3)\n",
    "#    conv3 = Conv3D(4*n, (3, 3, 3), padding='same')(conv3)\n",
    "#    conv3 = BatchNormalization(axis=4)(conv3)\n",
    "#    conv3 = Activation('relu')(conv3)\n",
    "    pool3 = Conv3D(2*n, (3, 3, 3), padding='same', strides = (2, 2, 2))(conv3)\n",
    "    pool3 = BatchNormalization(axis=4)(pool3)\n",
    "    pool3 = Activation('relu')(pool3)\n",
    "    \n",
    "    \n",
    "    conv44 = concatenate([pool3, MaxPooling3D(pool_size=(2, 2, 2))(conv33)], axis=4)\n",
    "    conv4 = Conv3D(8*n, (3, 3, 3), padding='same')(conv44)    \n",
    "    conv4 = BatchNormalization(axis=4)(conv4)\n",
    "    conv4 = Activation('relu')(conv4)\n",
    "    conv4 = Conv3D(8*n, (3, 3, 3), padding='same')(conv4)    \n",
    "    conv4 = BatchNormalization(axis=4)(conv4)\n",
    "    conv4 = Activation('relu')(conv4)\n",
    "    conv4 = Conv3D(8*n, (3, 3, 3), padding='same')(concatenate([conv44, conv4], axis=4))\n",
    "    conv4 = BatchNormalization(axis=4)(conv4)\n",
    "    conv4 = Activation('relu')(conv4)\n",
    "    conv4 = Conv3D(8*n, (3, 3, 3), padding='same')(conv4)    \n",
    "    conv4 = BatchNormalization(axis=4)(conv4)\n",
    "    conv4 = Activation('relu')(conv4)\n",
    "#    conv3 = Dropout(0.5)(conv3)\n",
    "#    pool3 = MaxPooling3D(pool_size=(2, 2, 1))(conv3)\n",
    "\n",
    "#    conv4 = Conv3D(128, (3, 3, 3), activation='relu', padding='same')(pool3)\n",
    "#    conv4 = BatchNormalization(axis=1)(conv4)\n",
    "#    conv4 = Activation('relu')(conv4)\n",
    "#    conv4 = Conv3D(128, (3, 3, 3), activation='relu', padding='same')(conv4)\n",
    "#    conv4 = BatchNormalization(axis=1)(conv4)\n",
    "\n",
    "    up5 = concatenate([Conv3DTranspose(2*n, (3, 3, 3), strides=(2, 2, 2), padding='same')(conv4), conv3], axis=4)\n",
    "    conv5 = Conv3D(4*n, (3, 3, 3), padding='same')(up5)\n",
    "    conv5 = BatchNormalization(axis=4)(conv5)\n",
    "    conv5 = Activation('relu')(conv5)\n",
    "    conv5 = Conv3D(4*n, (3, 3, 3), padding='same')(conv5)\n",
    "    conv5 = BatchNormalization(axis=4)(conv5)\n",
    "    conv5 = Activation('relu')(conv5)\n",
    "    conv5 = Conv3D(4*n, (3, 3, 3), padding='same')(concatenate([up5, conv5], axis=4))\n",
    "    conv5 = BatchNormalization(axis=4)(conv5)\n",
    "    conv5 = Activation('relu')(conv5)\n",
    "    \n",
    "    up6 = concatenate([Conv3DTranspose(n, (3, 3, 3), strides=(2, 2, 2), padding='same')(conv5), conv2], axis=4)\n",
    "    conv6 = Conv3D(2*n, (3, 3, 3), padding='same')(up6)\n",
    "    conv6 = BatchNormalization(axis=4)(conv6)\n",
    "    conv6 = Activation('relu')(conv6)\n",
    "    conv6 = Conv3D(2*n, (3, 3, 3), padding='same')(conv6)\n",
    "    conv6 = BatchNormalization(axis=4)(conv6)\n",
    "    conv6 = Activation('relu')(conv6)\n",
    "    conv6 = Conv3D(2*n, (3, 3, 3), padding='same')(concatenate([up6, conv6], axis=4))\n",
    "    conv6 = BatchNormalization(axis=4)(conv6)\n",
    "    conv6 = Activation('relu')(conv6)\n",
    "\n",
    "    up7 = concatenate([Conv3DTranspose(n, (3, 3, 3), strides=(2, 2, 2), padding='same')(conv6), conv1], axis=4)\n",
    "    conv7 = Conv3D(n, (3, 3, 3), padding='same')(up7)\n",
    "    conv7 = BatchNormalization(axis=4)(conv7)\n",
    "    conv7 = Activation('relu')(conv7)\n",
    "    conv7 = Conv3D(n, (3, 3, 3), padding='same')(conv7)\n",
    "    conv7 = BatchNormalization(axis=4)(conv7)\n",
    "    conv7 = Activation('relu')(conv7)\n",
    "    conv7 = Conv3D(n, (3, 3, 3), padding='same')(concatenate([up7, conv7], axis=4))\n",
    "    conv7 = BatchNormalization(axis=4)(conv7)\n",
    "    conv7 = Activation('relu')(conv7)\n",
    " #   up6 = concatenate([Conv3DTranspose(16, (2, 2, 1), strides=(2, 2, 1), padding='same')(conv5), conv1], axis=4)\n",
    " #   conv6 = Conv3D(16, (3, 3, 3), activation='relu', padding='same')(up6)\n",
    " #   conv6 = BatchNormalization(axis=1)(conv6)\n",
    " #   conv6 = Activation('relu')(conv6)\n",
    " #   conv6 = Conv3D(16, (3, 3, 3), activation='relu', padding='same')(conv6)\n",
    " #   conv6 = BatchNormalization(axis=1)(conv6)\n",
    " #   conv6 = Activation('relu')(conv6)\n",
    "    \n",
    "    conv8 = Conv3D(1, (1, 1, 1), activation='sigmoid')(conv7)\n",
    "    \n",
    "    model = Model(inputs=[inputs], outputs=[conv8])\n",
    "    \n",
    "    learning_rate = 1e-3\n",
    "    decay_rate = learning_rate/300\n",
    "    \n",
    "    model.compile(optimizer=Adam(lr=learning_rate, decay=decay_rate), loss=dice_coef_loss, metrics=[dice_coef])\n",
    "#   model.compile(optimizer=Adam(lr=1e-5), loss=losses.mean_squared_error, metrics=[dice_coef])\n",
    "\n",
    "    return model"
   ]
  },
  {
   "cell_type": "code",
   "execution_count": 3,
   "metadata": {
    "code_folding": [
     0
    ]
   },
   "outputs": [],
   "source": [
    "## loss function\n",
    "smooth = 1e-7\n",
    "\n",
    "def dice_coef(y_true, y_pred):\n",
    "    y_true_f = K.flatten(y_true)\n",
    "    y_pred_f = K.flatten(y_pred)\n",
    "    intersection = K.sum(y_true_f * y_pred_f)\n",
    "    return (2. * intersection + smooth * 0.01) / (K.sum(y_true_f) + K.sum(y_pred_f) + smooth)\n",
    "\n",
    "def dice_coef_loss(y_true, y_pred):\n",
    "    return -dice_coef(y_true, y_pred)"
   ]
  },
  {
   "cell_type": "code",
   "execution_count": 4,
   "metadata": {
    "code_folding": [
     0
    ]
   },
   "outputs": [],
   "source": [
    "def convertDicomToImg(img_array, center, width, slope, intercept):\n",
    "\tcvtd_array = np.zeros(img_array.shape, dtype=np.uint8)\n",
    "    \n",
    "\ttemp = img_array * slope + intercept\n",
    "\tlth = center - 0.5 - (width-1)/2\n",
    "\thth = center - 0.5 + (width-1)/2\n",
    "\tcvtd_array = 255*((temp-(center-0.5))/(width-1)+0.5)\n",
    "\tcvtd_array[temp<=lth] = 0\n",
    "\tcvtd_array[temp>hth] = 255\n",
    "\n",
    "\treturn(cvtd_array)"
   ]
  },
  {
   "cell_type": "code",
   "execution_count": 5,
   "metadata": {},
   "outputs": [],
   "source": [
    "def normalization(array):\n",
    "\n",
    "    d0,d1,d2,d3 = array.shape\n",
    "    array_flat = array.flatten()\n",
    "    array_flat = [np.nan if x == 0 else x for x in array_flat]\n",
    "    mean = np.nanmean(array_flat)\n",
    "    std = np.nanstd(array_flat)\n",
    "    \n",
    "    array_flat = (array_flat-mean)/std\n",
    "    array = array_flat.reshape(d0,d1,d2,d3)\n",
    "    \n",
    "    return array"
   ]
  },
  {
   "cell_type": "code",
   "execution_count": null,
   "metadata": {},
   "outputs": [],
   "source": [
    "import pickle\n",
    "with open('ROI_mask','wb') as f:\n",
    "    pickle.dump(ROI_mask,f)\n",
    "with open('CT_mask','wb') as f:\n",
    "    pickle.dump(CT_mask,f)"
   ]
  },
  {
   "cell_type": "code",
   "execution_count": 1,
   "metadata": {},
   "outputs": [
    {
     "ename": "EOFError",
     "evalue": "Ran out of input",
     "output_type": "error",
     "traceback": [
      "\u001b[1;31m---------------------------------------------------------------------------\u001b[0m",
      "\u001b[1;31mEOFError\u001b[0m                                  Traceback (most recent call last)",
      "\u001b[1;32m<ipython-input-1-c9a2c6198bc2>\u001b[0m in \u001b[0;36m<module>\u001b[1;34m\u001b[0m\n\u001b[0;32m      1\u001b[0m \u001b[1;32mimport\u001b[0m \u001b[0mpickle\u001b[0m\u001b[1;33m\u001b[0m\u001b[1;33m\u001b[0m\u001b[0m\n\u001b[0;32m      2\u001b[0m \u001b[1;32mwith\u001b[0m \u001b[0mopen\u001b[0m\u001b[1;33m(\u001b[0m\u001b[1;34m'ROI_mask'\u001b[0m\u001b[1;33m,\u001b[0m\u001b[1;34m'rb'\u001b[0m\u001b[1;33m)\u001b[0m \u001b[1;32mas\u001b[0m \u001b[0mf\u001b[0m\u001b[1;33m:\u001b[0m\u001b[1;33m\u001b[0m\u001b[1;33m\u001b[0m\u001b[0m\n\u001b[1;32m----> 3\u001b[1;33m     \u001b[0mROI_mask\u001b[0m \u001b[1;33m=\u001b[0m \u001b[0mpickle\u001b[0m\u001b[1;33m.\u001b[0m\u001b[0mload\u001b[0m\u001b[1;33m(\u001b[0m\u001b[0mf\u001b[0m\u001b[1;33m)\u001b[0m\u001b[1;33m\u001b[0m\u001b[1;33m\u001b[0m\u001b[0m\n\u001b[0m\u001b[0;32m      4\u001b[0m \u001b[1;32mwith\u001b[0m \u001b[0mopen\u001b[0m\u001b[1;33m(\u001b[0m\u001b[1;34m'CT_mask'\u001b[0m\u001b[1;33m,\u001b[0m\u001b[1;34m'rb'\u001b[0m\u001b[1;33m)\u001b[0m \u001b[1;32mas\u001b[0m \u001b[0mf\u001b[0m\u001b[1;33m:\u001b[0m\u001b[1;33m\u001b[0m\u001b[1;33m\u001b[0m\u001b[0m\n\u001b[0;32m      5\u001b[0m     \u001b[0mCT_mask\u001b[0m \u001b[1;33m=\u001b[0m \u001b[0mpickle\u001b[0m\u001b[1;33m.\u001b[0m\u001b[0mload\u001b[0m\u001b[1;33m(\u001b[0m\u001b[0mf\u001b[0m\u001b[1;33m)\u001b[0m\u001b[1;33m\u001b[0m\u001b[1;33m\u001b[0m\u001b[0m\n",
      "\u001b[1;31mEOFError\u001b[0m: Ran out of input"
     ]
    }
   ],
   "source": [
    "import pickle\n",
    "with open('ROI_mask','rb') as f:\n",
    "    ROI_mask = pickle.load(f)\n",
    "with open('CT_mask','rb') as f:\n",
    "    CT_mask = pickle.load(f)"
   ]
  },
  {
   "cell_type": "code",
   "execution_count": 11,
   "metadata": {},
   "outputs": [],
   "source": [
    "CT_pre = CT_mask.copy()\n",
    "#CT_pre = CT_pre[0,:,:,40]\n",
    "\n",
    "#CT_pre_ori = CT_pre.copy()\n",
    "\n",
    "CT_pre[CT_pre>250] = 0\n",
    "CT_pre[CT_pre==0] = 0 "
   ]
  },
  {
   "cell_type": "code",
   "execution_count": 12,
   "metadata": {},
   "outputs": [
    {
     "ename": "MemoryError",
     "evalue": "",
     "output_type": "error",
     "traceback": [
      "\u001b[1;31m---------------------------------------------------------------------------\u001b[0m",
      "\u001b[1;31mMemoryError\u001b[0m                               Traceback (most recent call last)",
      "\u001b[1;32m<ipython-input-12-edf7051b928d>\u001b[0m in \u001b[0;36m<module>\u001b[1;34m\u001b[0m\n\u001b[1;32m----> 1\u001b[1;33m \u001b[0mCT_pre\u001b[0m \u001b[1;33m=\u001b[0m \u001b[0mnormalization\u001b[0m\u001b[1;33m(\u001b[0m\u001b[0mCT_pre\u001b[0m\u001b[1;33m)\u001b[0m\u001b[1;33m\u001b[0m\u001b[1;33m\u001b[0m\u001b[0m\n\u001b[0m",
      "\u001b[1;32m<ipython-input-5-8718b9152b6d>\u001b[0m in \u001b[0;36mnormalization\u001b[1;34m(array)\u001b[0m\n\u001b[0;32m      3\u001b[0m     \u001b[0md0\u001b[0m\u001b[1;33m,\u001b[0m\u001b[0md1\u001b[0m\u001b[1;33m,\u001b[0m\u001b[0md2\u001b[0m\u001b[1;33m,\u001b[0m\u001b[0md3\u001b[0m \u001b[1;33m=\u001b[0m \u001b[0marray\u001b[0m\u001b[1;33m.\u001b[0m\u001b[0mshape\u001b[0m\u001b[1;33m\u001b[0m\u001b[1;33m\u001b[0m\u001b[0m\n\u001b[0;32m      4\u001b[0m     \u001b[0marray_flat\u001b[0m \u001b[1;33m=\u001b[0m \u001b[0marray\u001b[0m\u001b[1;33m.\u001b[0m\u001b[0mflatten\u001b[0m\u001b[1;33m(\u001b[0m\u001b[1;33m)\u001b[0m\u001b[1;33m\u001b[0m\u001b[1;33m\u001b[0m\u001b[0m\n\u001b[1;32m----> 5\u001b[1;33m     \u001b[0marray_flat\u001b[0m \u001b[1;33m=\u001b[0m \u001b[1;33m[\u001b[0m\u001b[0mnp\u001b[0m\u001b[1;33m.\u001b[0m\u001b[0mnan\u001b[0m \u001b[1;32mif\u001b[0m \u001b[0mx\u001b[0m \u001b[1;33m==\u001b[0m \u001b[1;36m0\u001b[0m \u001b[1;32melse\u001b[0m \u001b[0mx\u001b[0m \u001b[1;32mfor\u001b[0m \u001b[0mx\u001b[0m \u001b[1;32min\u001b[0m \u001b[0marray_flat\u001b[0m\u001b[1;33m]\u001b[0m\u001b[1;33m\u001b[0m\u001b[1;33m\u001b[0m\u001b[0m\n\u001b[0m\u001b[0;32m      6\u001b[0m     \u001b[0mmean\u001b[0m \u001b[1;33m=\u001b[0m \u001b[0mnp\u001b[0m\u001b[1;33m.\u001b[0m\u001b[0mnanmean\u001b[0m\u001b[1;33m(\u001b[0m\u001b[0marray_flat\u001b[0m\u001b[1;33m)\u001b[0m\u001b[1;33m\u001b[0m\u001b[1;33m\u001b[0m\u001b[0m\n\u001b[0;32m      7\u001b[0m     \u001b[0mstd\u001b[0m \u001b[1;33m=\u001b[0m \u001b[0mnp\u001b[0m\u001b[1;33m.\u001b[0m\u001b[0mnanstd\u001b[0m\u001b[1;33m(\u001b[0m\u001b[0marray_flat\u001b[0m\u001b[1;33m)\u001b[0m\u001b[1;33m\u001b[0m\u001b[1;33m\u001b[0m\u001b[0m\n",
      "\u001b[1;32m<ipython-input-5-8718b9152b6d>\u001b[0m in \u001b[0;36m<listcomp>\u001b[1;34m(.0)\u001b[0m\n\u001b[0;32m      3\u001b[0m     \u001b[0md0\u001b[0m\u001b[1;33m,\u001b[0m\u001b[0md1\u001b[0m\u001b[1;33m,\u001b[0m\u001b[0md2\u001b[0m\u001b[1;33m,\u001b[0m\u001b[0md3\u001b[0m \u001b[1;33m=\u001b[0m \u001b[0marray\u001b[0m\u001b[1;33m.\u001b[0m\u001b[0mshape\u001b[0m\u001b[1;33m\u001b[0m\u001b[1;33m\u001b[0m\u001b[0m\n\u001b[0;32m      4\u001b[0m     \u001b[0marray_flat\u001b[0m \u001b[1;33m=\u001b[0m \u001b[0marray\u001b[0m\u001b[1;33m.\u001b[0m\u001b[0mflatten\u001b[0m\u001b[1;33m(\u001b[0m\u001b[1;33m)\u001b[0m\u001b[1;33m\u001b[0m\u001b[1;33m\u001b[0m\u001b[0m\n\u001b[1;32m----> 5\u001b[1;33m     \u001b[0marray_flat\u001b[0m \u001b[1;33m=\u001b[0m \u001b[1;33m[\u001b[0m\u001b[0mnp\u001b[0m\u001b[1;33m.\u001b[0m\u001b[0mnan\u001b[0m \u001b[1;32mif\u001b[0m \u001b[0mx\u001b[0m \u001b[1;33m==\u001b[0m \u001b[1;36m0\u001b[0m \u001b[1;32melse\u001b[0m \u001b[0mx\u001b[0m \u001b[1;32mfor\u001b[0m \u001b[0mx\u001b[0m \u001b[1;32min\u001b[0m \u001b[0marray_flat\u001b[0m\u001b[1;33m]\u001b[0m\u001b[1;33m\u001b[0m\u001b[1;33m\u001b[0m\u001b[0m\n\u001b[0m\u001b[0;32m      6\u001b[0m     \u001b[0mmean\u001b[0m \u001b[1;33m=\u001b[0m \u001b[0mnp\u001b[0m\u001b[1;33m.\u001b[0m\u001b[0mnanmean\u001b[0m\u001b[1;33m(\u001b[0m\u001b[0marray_flat\u001b[0m\u001b[1;33m)\u001b[0m\u001b[1;33m\u001b[0m\u001b[1;33m\u001b[0m\u001b[0m\n\u001b[0;32m      7\u001b[0m     \u001b[0mstd\u001b[0m \u001b[1;33m=\u001b[0m \u001b[0mnp\u001b[0m\u001b[1;33m.\u001b[0m\u001b[0mnanstd\u001b[0m\u001b[1;33m(\u001b[0m\u001b[0marray_flat\u001b[0m\u001b[1;33m)\u001b[0m\u001b[1;33m\u001b[0m\u001b[1;33m\u001b[0m\u001b[0m\n",
      "\u001b[1;31mMemoryError\u001b[0m: "
     ]
    }
   ],
   "source": [
    "CT_pre = normalization(CT_pre)"
   ]
  },
  {
   "cell_type": "code",
   "execution_count": 7,
   "metadata": {},
   "outputs": [],
   "source": [
    "CT_path = 'G:\\\\JBS-05K\\\\2차\\\\CT'\n",
    "ROI_path = 'G:\\\\JBS-05K\\\\2차\\\\ROI'"
   ]
  },
  {
   "cell_type": "code",
   "execution_count": 8,
   "metadata": {},
   "outputs": [],
   "source": [
    "pat_id_list = os.listdir(CT_path)\n",
    "pat_id_list.sort()\n",
    "PN = len(pat_id_list)\n",
    "ROI_train = os.listdir(ROI_path)\n",
    "ROI_train.sort()\n",
    "PN_train = len(ROI_train)"
   ]
  },
  {
   "cell_type": "code",
   "execution_count": null,
   "metadata": {},
   "outputs": [],
   "source": [
    "pname = 'DUM_' + ROI_train[0][0:4]\n",
    "dcm_path = os.path.join(CT_path, pname)\n",
    "\n",
    "label_path = os.path.join(ROI_path)\n",
    "label_list = os.listdir(label_path)\n",
    "label_list.sort()\n",
    "\n",
    "dcm_list = os.listdir(dcm_path)\n",
    "dcm_list.sort()\n",
    "\n",
    "print(label_list)"
   ]
  },
  {
   "cell_type": "code",
   "execution_count": 6,
   "metadata": {},
   "outputs": [],
   "source": [
    "img_rows = 192\n",
    "img_cols = 192\n",
    "img_slice = 80\n",
    "\n",
    "CT_mask = np.zeros((PN_train, img_rows, img_cols, img_slice), dtype=np.float32)\n",
    "ROI_mask = np.zeros((PN_train, img_rows, img_cols, img_slice), dtype=np.float32)"
   ]
  },
  {
   "cell_type": "code",
   "execution_count": null,
   "metadata": {},
   "outputs": [],
   "source": [
    "label_path = os.path.join(ROI_path,ROI_train[0])"
   ]
  },
  {
   "cell_type": "code",
   "execution_count": null,
   "metadata": {},
   "outputs": [],
   "source": [
    "print(label_path)\n",
    "sname = 'slice-' + str(17) + '.jpg'\n",
    "label = imread(os.path.join(label_path, sname))\n",
    "\n",
    "label_test = label\n",
    "label_test = label_test.sum(axis=2)/(3*255)\n",
    "\n",
    "#print(np.histogram(label_test))\n",
    "\n",
    "label_mean = 0.5\n",
    "plt.figure(figsize=[20,10])\n",
    "plt.subplot(121).imshow(label_test)\n",
    "\n",
    "#label_test = np.array(label_test)\n",
    "label_test[label_test>label_mean] = 255\n",
    "label_test[label_test<label_mean] = 0\n",
    "plt.subplot(122).imshow(label_test)\n",
    "plt.show()\n",
    "#print(np.histogram(label_test))"
   ]
  },
  {
   "cell_type": "code",
   "execution_count": null,
   "metadata": {},
   "outputs": [],
   "source": [
    "for i in range(PN_train):\n",
    "\n",
    "    pname = 'DUM_' + ROI_train[i][0:4]\n",
    "    \n",
    "    dcm_path = os.path.join(CT_path, pname)\n",
    "    dcm_list = os.listdir(dcm_path)\n",
    "    dcm_list.sort()\n",
    "    \n",
    "    label_path = os.path.join(ROI_path,ROI_train[i])\n",
    "    label_list = os.listdir(label_path)\n",
    "    label_list.sort()\n",
    "\n",
    "    \n",
    "    DN = len(dcm_list)\n",
    "    gap = img_slice - DN\n",
    "    sgap = int(np.floor(gap / 2))\n",
    "\n",
    "    for j in range(DN):\n",
    "\n",
    "        image_path = os.path.join(dcm_path, dcm_list[j])\n",
    "\n",
    "        dcm_info = pydicom.dcmread(image_path,force=True)\n",
    "        if 'DERIVED' in dcm_info.ImageType:\n",
    "            continue\n",
    "        try:\n",
    "            pixel = dcm_info.pixel_array\n",
    "        except:\n",
    "            continue\n",
    "        try:\n",
    "            image = convertDicomToImg(pixel, center=dcm_info.WindowCenter, width=dcm_info.WindowWidth, slope=dcm_info.RescaleSlope, intercept=dcm_info.RescaleIntercept)\n",
    "        except:\n",
    "            image = convertDicomToImg(pixel, center=dcm_info.WindowCenter[0], width=dcm_info.WindowWidth[0], slope=dcm_info.RescaleSlope, intercept=dcm_info.RescaleIntercept)\n",
    "\n",
    "        sname = 'slice-' + str(j+1) + '.jpg'\n",
    "\n",
    "    \n",
    "        if sgap+j < 80:\n",
    "            try:\n",
    "                CT_mask[i,:,:,sgap+j]=cv2.resize(np.float32(image),(img_rows,img_cols))\n",
    "            except:\n",
    "                continue\n",
    "        \n",
    "        if sname in label_list:\n",
    "            \n",
    "            label = imread(os.path.join(label_path, sname))\n",
    "\n",
    "            label_test = label\n",
    "            label_test = label_test.sum(axis=2)/(3*255)\n",
    "\n",
    "            print(np.histogram(label_test))\n",
    "\n",
    "            #label_mean = np.mean(label_test)\n",
    "            label_mean = 0.5\n",
    "            #print(label_test.shape)\n",
    "            #print(label_mean)\n",
    "            plt.figure(figsize=[20,10])\n",
    "            plt.subplot(121).imshow(label_test)\n",
    "\n",
    "            label_test = np.array(label_test)\n",
    "            label_test[label_test>label_mean] = 255\n",
    "            label_test[label_test<label_mean] = 0\n",
    "\n",
    "            \n",
    "#             label = imread(os.path.join(label_path, sname))\n",
    "#             label = np.float32(label)\n",
    "#             label = label.sum(axis=0)           \n",
    "            \n",
    "            #label = label/255\n",
    "            \n",
    "            if sgap+j < 80:\n",
    "                    ROI_mask[i,:,:,sgap+j]=cv2.resize(label_test,(img_rows,img_cols))\n",
    "            else:\n",
    "                continue\n",
    "                    \n",
    "#ROI_mask[ROI_mask >= 0.5] = 1\n",
    "#ROI_mask[ROI_mask < 0.5] = 0         "
   ]
  },
  {
   "cell_type": "code",
   "execution_count": null,
   "metadata": {},
   "outputs": [],
   "source": [
    "for i in range(80):\n",
    "    print(i)\n",
    "    fig, (ax0, ax1) = plt.subplots(ncols=2, figsize=(10,10))\n",
    "    ax0.imshow(CT_mask[0,:,:,i],cmap=plt.cm.bone)\n",
    "    ax1.imshow(ROI_mask[0,:,:,i])"
   ]
  },
  {
   "cell_type": "markdown",
   "metadata": {},
   "source": [
    "    pname = ['DUM_' + label[0:4] for label in ROI_train]\n",
    "save_path = '/home/user/notebooks/SW/save_folder/'\n",
    "if not os.path.isdir(save_path):\n",
    "    os.mkdir(save_path)\n",
    "CT_input = copy.deepcopy(CT_mask)\n",
    "ROI_out = copy.deepcopy(ROI_mask)"
   ]
  },
  {
   "cell_type": "code",
   "execution_count": null,
   "metadata": {},
   "outputs": [],
   "source": []
  }
 ],
 "metadata": {
  "kernelspec": {
   "display_name": "Python 3",
   "language": "python",
   "name": "python3"
  },
  "language_info": {
   "codemirror_mode": {
    "name": "ipython",
    "version": 3
   },
   "file_extension": ".py",
   "mimetype": "text/x-python",
   "name": "python",
   "nbconvert_exporter": "python",
   "pygments_lexer": "ipython3",
   "version": "3.7.3"
  },
  "varInspector": {
   "cols": {
    "lenName": 16,
    "lenType": 16,
    "lenVar": 40
   },
   "kernels_config": {
    "python": {
     "delete_cmd_postfix": "",
     "delete_cmd_prefix": "del ",
     "library": "var_list.py",
     "varRefreshCmd": "print(var_dic_list())"
    },
    "r": {
     "delete_cmd_postfix": ") ",
     "delete_cmd_prefix": "rm(",
     "library": "var_list.r",
     "varRefreshCmd": "cat(var_dic_list()) "
    }
   },
   "oldHeight": 432,
   "position": {
    "height": "454px",
    "left": "1281px",
    "right": "20px",
    "top": "58px",
    "width": "647px"
   },
   "types_to_exclude": [
    "module",
    "function",
    "builtin_function_or_method",
    "instance",
    "_Feature"
   ],
   "varInspector_section_display": "block",
   "window_display": true
  }
 },
 "nbformat": 4,
 "nbformat_minor": 2
}
